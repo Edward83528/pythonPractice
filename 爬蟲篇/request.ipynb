{
 "cells": [
  {
   "cell_type": "markdown",
   "metadata": {},
   "source": [
    "## 網頁資料擷取"
   ]
  },
  {
   "cell_type": "code",
   "execution_count": 1,
   "metadata": {},
   "outputs": [],
   "source": [
    "import requests"
   ]
  },
  {
   "cell_type": "code",
   "execution_count": 2,
   "metadata": {},
   "outputs": [],
   "source": [
    "url=\"https://www.tycg.gov.tw/ch/index.jsp?popflag=Y\""
   ]
  },
  {
   "cell_type": "code",
   "execution_count": 3,
   "metadata": {},
   "outputs": [],
   "source": [
    "html=requests.get(url) # request.get()函式模擬http get方法\n",
    "html.encodeing=\"utf-8\""
   ]
  },
  {
   "cell_type": "code",
   "execution_count": 4,
   "metadata": {},
   "outputs": [
    {
     "name": "stdout",
     "output_type": "stream",
     "text": [
      "<class 'str'>\n"
     ]
    }
   ],
   "source": [
    "#print(html.text)\n",
    "print(type(html.text))"
   ]
  },
  {
   "cell_type": "code",
   "execution_count": 5,
   "metadata": {},
   "outputs": [
    {
     "name": "stdout",
     "output_type": "stream",
     "text": [
      "<class 'list'>\n"
     ]
    }
   ],
   "source": [
    "htmllist=html.text.splitlines()\n",
    "print(type(htmllist))"
   ]
  },
  {
   "cell_type": "code",
   "execution_count": 6,
   "metadata": {},
   "outputs": [
    {
     "name": "stdout",
     "output_type": "stream",
     "text": [
      "\n",
      "<!DOCTYPE html>\n",
      "<!--[if lt IE 7]> <html class=\"ie6 oldie\"> <![endif]-->\n",
      "<!--[if IE 7]>    <html class=\"ie7 oldie\"> <![endif]-->\n",
      "<!--[if IE 8]>    <html class=\"ie8 oldie\"> <![endif]-->\n",
      "<!--[if gt IE 8]><!-->\n",
      "<html lang=\"zh-TW\">\n",
      "<!--<![endif]-->\n",
      "<head itemscope itemtype=\"https://schema.org/WebPage\">\n",
      "<meta charset=\"utf-8\">\n",
      "<meta http-equiv=\"X-UA-Compatible\" content=\"IE=edge\">\n",
      "<meta name=\"viewport\" content=\"width=device-width, initial-scale=1\">\n",
      "<link rel=\"shortcut icon\" href=\"/favicon.ico\" />\n",
      "\n",
      "\n",
      "\n",
      "\n",
      "\n",
      "\n",
      "\n",
      "\n"
     ]
    }
   ],
   "source": [
    "count=0\n",
    "for row in htmllist:\n",
    "    print(row)\n",
    "    count+=1\n",
    "    if count>20:break"
   ]
  },
  {
   "cell_type": "code",
   "execution_count": 7,
   "metadata": {},
   "outputs": [
    {
     "name": "stdout",
     "output_type": "stream",
     "text": [
      "找到126次!\n"
     ]
    }
   ],
   "source": [
    "n=0\n",
    "for row in htmllist:\n",
    "    if \"桃園\" in row:n+=1\n",
    "print(\"找到{}次!\".format(n))"
   ]
  }
 ],
 "metadata": {
  "kernelspec": {
   "display_name": "Python 3",
   "language": "python",
   "name": "python3"
  },
  "language_info": {
   "codemirror_mode": {
    "name": "ipython",
    "version": 3
   },
   "file_extension": ".py",
   "mimetype": "text/x-python",
   "name": "python",
   "nbconvert_exporter": "python",
   "pygments_lexer": "ipython3",
   "version": "3.7.3"
  }
 },
 "nbformat": 4,
 "nbformat_minor": 2
}
