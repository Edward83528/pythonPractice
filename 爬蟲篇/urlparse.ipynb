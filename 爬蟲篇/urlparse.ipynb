{
 "cells": [
  {
   "cell_type": "markdown",
   "metadata": {},
   "source": [
    "## 網址解析"
   ]
  },
  {
   "cell_type": "code",
   "execution_count": 1,
   "metadata": {},
   "outputs": [],
   "source": [
    "from urllib.parse import urlparse\n",
    "tycgurl=\"https://www.tycg.gov.tw/ch/index.jsp?popflag=Y\"\n",
    "url = 'http://taqm.epa.gov.tw:80/pm25/tw/PM25A.aspx?area=1'\n",
    "o = urlparse(url)"
   ]
  },
  {
   "cell_type": "code",
   "execution_count": 2,
   "metadata": {},
   "outputs": [
    {
     "name": "stdout",
     "output_type": "stream",
     "text": [
      "<class 'urllib.parse.ParseResult'>\n",
      "ParseResult(scheme='http', netloc='taqm.epa.gov.tw:80', path='/pm25/tw/PM25A.aspx', params='', query='area=1', fragment='')\n"
     ]
    }
   ],
   "source": [
    "#傳回元組型別的ParseResult物件\n",
    "print(type(o))\n",
    "print(o)"
   ]
  },
  {
   "cell_type": "code",
   "execution_count": 3,
   "metadata": {},
   "outputs": [
    {
     "name": "stdout",
     "output_type": "stream",
     "text": [
      "scheme=http\n",
      "netloc=taqm.epa.gov.tw:80\n",
      "port=80\n",
      "path=/pm25/tw/PM25A.aspx\n",
      "query=area=1\n"
     ]
    }
   ],
   "source": [
    "print(\"scheme={}\".format(o.scheme)) # http\n",
    "print(\"netloc={}\".format(o.netloc)) # taqm.epa.gov.tw\n",
    "print(\"port={}\".format(o.port))     # 80\n",
    "print(\"path={}\".format(o.path))     # /pm25/tw/PM25A.aspx\n",
    "print(\"query={}\".format(o.query))   # area=1"
   ]
  }
 ],
 "metadata": {
  "kernelspec": {
   "display_name": "Python 3",
   "language": "python",
   "name": "python3"
  },
  "language_info": {
   "codemirror_mode": {
    "name": "ipython",
    "version": 3
   },
   "file_extension": ".py",
   "mimetype": "text/x-python",
   "name": "python",
   "nbconvert_exporter": "python",
   "pygments_lexer": "ipython3",
   "version": "3.7.3"
  }
 },
 "nbformat": 4,
 "nbformat_minor": 2
}
