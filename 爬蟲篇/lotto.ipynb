{
 "cells": [
  {
   "cell_type": "markdown",
   "metadata": {},
   "source": [
    "## 取得台灣彩劵威力彩開獎結果"
   ]
  },
  {
   "cell_type": "code",
   "execution_count": 1,
   "metadata": {},
   "outputs": [],
   "source": [
    "import requests\n",
    "from bs4 import BeautifulSoup"
   ]
  },
  {
   "cell_type": "code",
   "execution_count": 2,
   "metadata": {},
   "outputs": [],
   "source": [
    "url = 'http://www.taiwanlottery.com.tw/'"
   ]
  },
  {
   "cell_type": "code",
   "execution_count": 3,
   "metadata": {},
   "outputs": [],
   "source": [
    "html = requests.get(url)"
   ]
  },
  {
   "cell_type": "code",
   "execution_count": 4,
   "metadata": {},
   "outputs": [
    {
     "name": "stdout",
     "output_type": "stream",
     "text": [
      "<Response [200]>\n"
     ]
    }
   ],
   "source": [
    "print(html)"
   ]
  },
  {
   "cell_type": "code",
   "execution_count": 5,
   "metadata": {},
   "outputs": [],
   "source": [
    "# BeautifulSoup型別物件\n",
    "sp = BeautifulSoup(html.text, 'html.parser')"
   ]
  },
  {
   "cell_type": "code",
   "execution_count": 6,
   "metadata": {},
   "outputs": [],
   "source": [
    "#開獎結果寫在id 為 rightdown的div\n",
    "data1 = sp.select(\"#rightdown\") #用選擇器選擇rightdown\n",
    "#print(data1)"
   ]
  },
  {
   "cell_type": "code",
   "execution_count": 7,
   "metadata": {},
   "outputs": [
    {
     "name": "stdout",
     "output_type": "stream",
     "text": [
      "<div class=\"contents_box02\">\n",
      "<div id=\"contents_logo_02\"></div><div class=\"contents_mine_tx02\"><span class=\"font_black15\">109/1/16 第109000005期 </span><span class=\"font_red14\"><a href=\"Result_all.aspx#01\">開獎結果</a></span></div><div class=\"contents_mine_tx04\">開出順序<br/>大小順序<br/>第二區</div><div class=\"ball_tx ball_green\">01 </div><div class=\"ball_tx ball_green\">32 </div><div class=\"ball_tx ball_green\">27 </div><div class=\"ball_tx ball_green\">38 </div><div class=\"ball_tx ball_green\">09 </div><div class=\"ball_tx ball_green\">35 </div><div class=\"ball_tx ball_green\">01 </div><div class=\"ball_tx ball_green\">09 </div><div class=\"ball_tx ball_green\">27 </div><div class=\"ball_tx ball_green\">32 </div><div class=\"ball_tx ball_green\">35 </div><div class=\"ball_tx ball_green\">38 </div><div class=\"ball_red\">04 </div>\n",
      "</div>\n"
     ]
    }
   ],
   "source": [
    "data2 = data1[0].find('div', {'class':'contents_box02'}) #威力彩在contents_box02 div內\n",
    "print(data2)"
   ]
  },
  {
   "cell_type": "code",
   "execution_count": 8,
   "metadata": {},
   "outputs": [
    {
     "name": "stdout",
     "output_type": "stream",
     "text": [
      "[<div class=\"ball_tx ball_green\">01 </div>, <div class=\"ball_tx ball_green\">32 </div>, <div class=\"ball_tx ball_green\">27 </div>, <div class=\"ball_tx ball_green\">38 </div>, <div class=\"ball_tx ball_green\">09 </div>, <div class=\"ball_tx ball_green\">35 </div>, <div class=\"ball_tx ball_green\">01 </div>, <div class=\"ball_tx ball_green\">09 </div>, <div class=\"ball_tx ball_green\">27 </div>, <div class=\"ball_tx ball_green\">32 </div>, <div class=\"ball_tx ball_green\">35 </div>, <div class=\"ball_tx ball_green\">38 </div>]\n"
     ]
    }
   ],
   "source": [
    "data3 = data2.find_all('div', {'class':'ball_tx'})\n",
    "print(data3)"
   ]
  },
  {
   "cell_type": "code",
   "execution_count": 9,
   "metadata": {},
   "outputs": [
    {
     "name": "stdout",
     "output_type": "stream",
     "text": [
      "開出順序：01   32   27   38   09   35   \n",
      "大小順序：01   09   27   32   35   38   \n",
      "第二區：04 \n"
     ]
    }
   ],
   "source": [
    "# 威力彩號碼\n",
    "print(\"開出順序：\",end=\"\")\n",
    "for n in range(0,6):\n",
    "    print(data3[n].text,end=\"  \") \n",
    "\n",
    "print(\"\\n大小順序：\",end=\"\")    \n",
    "for n in range(6,len(data3)):\n",
    "    print(data3[n].text,end=\"  \")\n",
    "     \n",
    "## 第二區\n",
    "red = data2.find('div', {'class':'ball_red'})        \n",
    "print(\"\\n第二區：{}\".format(red.text)) "
   ]
  }
 ],
 "metadata": {
  "kernelspec": {
   "display_name": "Python 3",
   "language": "python",
   "name": "python3"
  },
  "language_info": {
   "codemirror_mode": {
    "name": "ipython",
    "version": 3
   },
   "file_extension": ".py",
   "mimetype": "text/x-python",
   "name": "python",
   "nbconvert_exporter": "python",
   "pygments_lexer": "ipython3",
   "version": "3.7.3"
  }
 },
 "nbformat": 4,
 "nbformat_minor": 2
}
